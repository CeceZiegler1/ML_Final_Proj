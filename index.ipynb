{
 "cells": [
  {
   "cell_type": "markdown",
   "id": "de09902d",
   "metadata": {},
   "source": [
    "# Overview of Significance of Topic\n",
    "- Batting speed in baseball\n",
    "    - How does it contribute to the success of a team\n",
    "    - Factors that contribute to/inhibit batting speed\n",
    "    - How does the ability to predict/measure batting speed impact team/player performance predictions\n",
    "\n",
    "# Formal Introduction to Topic\n",
    "- Explain dataset\n",
    "- Explain what we are trying to do/build – how a ML model could assist in predicting batting speed using this data set\n",
    "- Pull from Project Proposal\n",
    "\n",
    "# Variable Overview\n",
    "- Break down dataset\n",
    "- Include images to explain different variables\n",
    "    - ex. hip rotation\n",
    "\n",
    "# [ BUILDING THE MODEL/ EXPLAINING THE PROCESS]\n",
    "\n",
    "# Conclusion of Results\n",
    "\n",
    "# Bias\n",
    "- Who benefits, who doesn't\n",
    "- gender discrimination, accesibility\n",
    "- pull from Project Proposal\n",
    "\n",
    "# Application\n",
    "- How could this be used by other teams/sports/groups \n",
    "\n",
    "\n",
    "\n",
    "\n",
    "# TO DO:\n",
    "- David to write a quick paragraph on “Overview of Significance of Topic”\n",
    "    - Julia will edit and bulk up with outside data\n",
    "- David and Cece work on completing “Variable Overview” on Thursday\n",
    "    - Julia to pull in images that explain different variables \n",
    "        - Ex. hip rotation visual \n",
    "\n"
   ]
  }
 ],
 "metadata": {
  "kernelspec": {
   "display_name": "Python 3 (ipykernel)",
   "language": "python",
   "name": "python3"
  },
  "language_info": {
   "codemirror_mode": {
    "name": "ipython",
    "version": 3
   },
   "file_extension": ".py",
   "mimetype": "text/x-python",
   "name": "python",
   "nbconvert_exporter": "python",
   "pygments_lexer": "ipython3",
   "version": "3.9.13"
  }
 },
 "nbformat": 4,
 "nbformat_minor": 5
}
