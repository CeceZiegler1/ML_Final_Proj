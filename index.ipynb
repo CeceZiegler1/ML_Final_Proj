{
 "cells": [
  {
   "cell_type": "markdown",
   "id": "de09902d",
   "metadata": {},
   "source": [
    "# Overview of Significance of Topic\n",
    "- Batting speed in baseball\n",
    "    - How does it contribute to the success of a team\n",
    "    - Factors that contribute to/inhibit batting speed\n",
    "    - How does the ability to predict/measure batting speed impact team/player performance predictions\n",
    "\n",
    "# Formal Introduction to Topic\n",
    "\n",
    "\n",
    "For our final project, we are using data from the Open Biomechanics Project (OBP) driveline baseball research. Our data captures the biomechanical breakdown of a baseball player's swing by measuring forces produced by different body parts in three dimensions over exact instances in time, for example, at instance X, player 103’s 2nd swing has a max lead hip force in the y direction of 111.73. The data was captured using a combination of ground force plates, a marker motion capture system, bat speed sensors, and ball flight monitors. The available data is rather robust, accounting for every piece of information that could be responsible for a baseball swing.\n",
    "\n",
    "\n",
    "For our project, our goal is to create a machine learning model that uses this OBP data to identify the most important features of a player's swing when generating bat speed, and then use those features to accurately predict a player's bat speed. By comparing an athlete's true bat speed to their predicted bat speed based on our model, the player could identify how efficiently they are swinging. We hope that this model could be used by baseball players and coaches to address the unique aspects of a player's swing that could contribute to a higher bat speed, which in turn, would the players reach their fullest potential based on where their inefficiencies lie.\n",
    "Our project can be broken down into two main processes: \n",
    "Identifying the key features that contribute to bat speed.\n",
    "Creating a model that uses the key features to predict bat speed. \n",
    "For the first step, we have decided to run a Principal Component Analysis (PCA) on the 60 potential features from our dataset to pull out a smaller number of strong predictive features to use in our model. \n",
    "Next, using those select features, we will run a regression analysis to create a model that can be used to predict a player’s bat speed. \n",
    "Let’s take a closer look at these analyses. \n",
    "\n",
    "\n",
    "# Variable Overview\n",
    "- Break down dataset\n",
    "- Include images to explain different variables\n",
    "    - ex. hip rotation\n",
    "\n",
    "# [ BUILDING THE MODEL/ EXPLAINING THE PROCESS]\n",
    "\n",
    "# Conclusion of Results\n",
    "\n",
    "# Bias\n",
    "- Who benefits, who doesn't\n",
    "- gender discrimination, accesibility\n",
    "- pull from Project Proposal\n",
    "\n",
    "# Application\n",
    "- How could this be used by other teams/sports/groups \n",
    "\n",
    "\n",
    "\n",
    "\n",
    "# TO DO:\n",
    "- David to write a quick paragraph on “Overview of Significance of Topic”\n",
    "    - Julia will edit and bulk up with outside data\n",
    "- David and Cece work on completing “Variable Overview” on Thursday\n",
    "    - Julia to pull in images that explain different variables \n",
    "        - Ex. hip rotation visual \n",
    "\n"
   ]
  }
 ],
 "metadata": {
  "kernelspec": {
   "display_name": "Python [conda env:ml-0451] *",
   "language": "python",
   "name": "conda-env-ml-0451-py"
  },
  "language_info": {
   "codemirror_mode": {
    "name": "ipython",
    "version": 3
   },
   "file_extension": ".py",
   "mimetype": "text/x-python",
   "name": "python",
   "nbconvert_exporter": "python",
   "pygments_lexer": "ipython3",
   "version": "3.9.16"
  }
 },
 "nbformat": 4,
 "nbformat_minor": 5
}
